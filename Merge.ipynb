{
 "cells": [
  {
   "cell_type": "code",
   "execution_count": 3,
   "id": "4c6b67be",
   "metadata": {},
   "outputs": [
    {
     "name": "stderr",
     "output_type": "stream",
     "text": [
      "incorrect startxref pointer(3)\n"
     ]
    },
    {
     "name": "stdout",
     "output_type": "stream",
     "text": [
      "Merged PDF saved to: C:\\Users\\kuzey\\OneDrive\\Masaüstü\\FN8J8TN3.pdf\n"
     ]
    }
   ],
   "source": [
    "import PyPDF2\n",
    "import os\n",
    "import random\n",
    "import string\n",
    "\n",
    "def merge_pdfs(pdf_paths, output_folder):\n",
    "    pdf_writer = PyPDF2.PdfWriter()\n",
    "\n",
    "    for pdf_path in pdf_paths:\n",
    "        \n",
    "        with open(pdf_path, 'rb') as pdf_file:\n",
    "            pdf_reader = PyPDF2.PdfReader(pdf_file)\n",
    "\n",
    "            for page_num in range(len(pdf_reader.pages)):\n",
    "                page = pdf_reader.pages[page_num]\n",
    "                pdf_writer.add_page(page)\n",
    "\n",
    "    random_filename = ''.join(random.choices(string.ascii_letters + string.digits, k=8)) + '.pdf'\n",
    "    output_path = os.path.join(output_folder, random_filename)\n",
    "\n",
    "\n",
    "    with open(output_path, 'wb') as output_file:\n",
    "        pdf_writer.write(output_file)\n",
    "\n",
    "    return output_path\n",
    "\n",
    "output_folder = r\"C:\\Users\\kuzey\\OneDrive\\Masaüstü\"\n",
    "\n",
    "pdf_paths =[\"C:\\Users\\kuzey\\OneDrive\\Masaüstü\\SINIF EL PROGRAMI.pdf.pdf\",\"C:\\Users\\kuzey\\OneDrive\\Masaüstü\\Wegbeschreibung und Orientierung in der Stadt (1).pdf\"]\n",
    "\n",
    "merged_pdf_path = merge_pdfs(pdf_paths, output_folder)\n",
    "print(f\"Merged PDF saved to: {merged_pdf_path}\")\n"
   ]
  },
  {
   "cell_type": "code",
   "execution_count": null,
   "id": "e99595bb",
   "metadata": {},
   "outputs": [],
   "source": []
  }
 ],
 "metadata": {
  "kernelspec": {
   "display_name": "Python 3 (ipykernel)",
   "language": "python",
   "name": "python3"
  },
  "language_info": {
   "codemirror_mode": {
    "name": "ipython",
    "version": 3
   },
   "file_extension": ".py",
   "mimetype": "text/x-python",
   "name": "python",
   "nbconvert_exporter": "python",
   "pygments_lexer": "ipython3",
   "version": "3.11.4"
  }
 },
 "nbformat": 4,
 "nbformat_minor": 5
}
