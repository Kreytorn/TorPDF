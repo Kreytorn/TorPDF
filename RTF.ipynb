{
 "cells": [
  {
   "cell_type": "code",
   "execution_count": 5,
   "id": "aeda5093",
   "metadata": {},
   "outputs": [
    {
     "name": "stdout",
     "output_type": "stream",
     "text": [
      "RTF document converted to PDF: C:\\Users\\kuzey\\OneDrive\\Masaüstü\\2204\n"
     ]
    }
   ],
   "source": [
    "import win32com.client\n",
    "\n",
    "def convert_rtf_to_pdf(rtf_file, pdf_file):\n",
    "  # Create Word application instance\n",
    "  word = win32com.client.Dispatch(\"Word.Application\")\n",
    "\n",
    "  # Open the RTF document\n",
    "  doc = word.Documents.Open(rtf_file)\n",
    "\n",
    "  # Convert to PDF and save\n",
    "  doc.SaveAs(pdf_file, FileFormat=17)  # 17 = wdFormatPDF\n",
    "\n",
    "  # Close Word application\n",
    "  word.Quit()\n",
    "\n",
    "# Example usage\n",
    "rtf_file = r\"C:\\Users\\kuzey\\OneDrive\\Masaüstü\\Qw8O9rnw_converted_to_RTF.rtf\"\n",
    "pdf_file = r\"C:\\Users\\kuzey\\OneDrive\\Masaüstü\\2204\"\n",
    "convert_rtf_to_pdf(rtf_file, pdf_file)\n",
    "\n",
    "print(f\"RTF document converted to PDF: {pdf_file}\")"
   ]
  },
  {
   "cell_type": "code",
   "execution_count": 7,
   "id": "251fe602",
   "metadata": {},
   "outputs": [
    {
     "name": "stdout",
     "output_type": "stream",
     "text": [
      "Conversion successful: C:\\Users\\kuzey\\OneDrive\\Masaüstü\\Qw8O9rnw.pdf to C:\\Users\\kuzey\\OneDrive\\Masaüstü\\Qw8O9rnw_converted_to_RTF.rtf\n"
     ]
    }
   ],
   "source": [
    "import fitz\n",
    "from docx import Document\n",
    "import os\n",
    "\n",
    "def convert_file_name(file_name, file_type):\n",
    "  conversion_keyword = \"_converted_to_\"\n",
    "  if conversion_keyword in file_name:\n",
    "    file_name = file_name[:file_name.rfind(conversion_keyword)]\n",
    "  return f\"{file_name}{conversion_keyword}{file_type}\"\n",
    "\n",
    "def convert_to_rtf(input_file, output_folder):\n",
    "  try:\n",
    "    file_name, file_extension = os.path.splitext(os.path.basename(input_file))\n",
    "    output_file = os.path.join(output_folder, \"\")\n",
    "\n",
    "    if file_extension.lower() == \".pdf\":\n",
    "      # Convert PDF to text:\n",
    "      with open(input_file, 'rb') as pdf_file:\n",
    "        doc = fitz.open(pdf_file)\n",
    "        text_content = \"\"\n",
    "        for page in doc:\n",
    "          text_content += page.get_text()\n",
    "\n",
    "      # Create RTF document:\n",
    "      docx_doc = Document()\n",
    "      for paragraph in text_content.split(\"\\n\"):\n",
    "        docx_doc.add_paragraph(paragraph)\n",
    "\n",
    "      # Save as RTF:\n",
    "      output_path = os.path.join(\n",
    "        output_file,\n",
    "        convert_file_name(file_name, \"RTF\") + \".rtf\"\n",
    "      )\n",
    "      docx_doc.save(output_path)\n",
    "\n",
    "      print(f\"Conversion successful: {input_file} to {output_path}\")\n",
    "\n",
    "    else:\n",
    "      print(f\"Unsupported file type: {file_extension}\")\n",
    "\n",
    "  except Exception as e:\n",
    "    print(f\"Conversion failed: {e}\")\n",
    "\n",
    "# Example usage:\n",
    "input_file_pdf = r\"C:\\Users\\kuzey\\OneDrive\\Masaüstü\\Qw8O9rnw.pdf\"\n",
    "output_folder_pdf = r'C:\\Users\\kuzey\\OneDrive\\Masaüstü'\n",
    "convert_to_rtf(input_file_pdf, output_folder_pdf)"
   ]
  },
  {
   "cell_type": "code",
   "execution_count": 9,
   "id": "e7857e9c",
   "metadata": {},
   "outputs": [
    {
     "name": "stdout",
     "output_type": "stream",
     "text": [
      "Conversion successful: C:\\Users\\kuzey\\OneDrive\\Masaüstü\\Qw8O9rnw_converted_to_RTF.rtf to C:\\Users\\kuzey\\OneDrive\\Masaüstü\\Qw8O9rnw_converted_to_PDF.pdf\n"
     ]
    }
   ],
   "source": [
    "#final\n",
    "import os\n",
    "import fitz\n",
    "from docx import Document\n",
    "import win32com.client\n",
    "\n",
    "def convert_file_name(file_name, file_type, page_number=None):\n",
    "    conversion_keyword = \"_converted_to_\"\n",
    "    if f\"{conversion_keyword}PDF\" in file_name or f\"{conversion_keyword}RTF\" in file_name:\n",
    "        base_file_name = file_name.split(conversion_keyword)[0]\n",
    "    else:\n",
    "        base_file_name = file_name\n",
    "\n",
    "    if page_number is not None:\n",
    "        return f\"{base_file_name}{conversion_keyword}{file_type}_page{page_number}\"\n",
    "    else:\n",
    "        return f\"{base_file_name}{conversion_keyword}{file_type}\"\n",
    "\n",
    "def convert_to_pdf_or_rtf(input_file, output_folder):\n",
    "    try:\n",
    "        file_name, file_extension = os.path.splitext(os.path.basename(input_file))\n",
    "        output_file = os.path.join(output_folder, \"\")\n",
    "\n",
    "        if file_extension.lower() == \".pdf\":\n",
    "            # Convert PDF to RTF\n",
    "            with open(input_file, 'rb') as pdf_file:\n",
    "                doc = fitz.open(pdf_file)\n",
    "                text_content = \"\"\n",
    "                for page in doc:\n",
    "                    text_content += page.get_text()\n",
    "\n",
    "            # Create RTF document:\n",
    "            docx_doc = Document()\n",
    "            for paragraph in text_content.split(\"\\n\"):\n",
    "                docx_doc.add_paragraph(paragraph)\n",
    "\n",
    "            # Save as RTF:\n",
    "            output_path = os.path.join(\n",
    "                output_file,\n",
    "                convert_file_name(file_name, \"RTF\") + \".rtf\"\n",
    "            )\n",
    "            docx_doc.save(output_path)\n",
    "\n",
    "            print(f\"Conversion successful: {input_file} to {output_path}\")\n",
    "\n",
    "        elif file_extension.lower() == \".rtf\":\n",
    "            # Convert RTF to PDF\n",
    "            word = win32com.client.Dispatch(\"Word.Application\")\n",
    "            doc = word.Documents.Open(input_file)\n",
    "            output_path = os.path.join(\n",
    "                output_file,\n",
    "                convert_file_name(file_name, \"PDF\") + \".pdf\"\n",
    "            )\n",
    "            doc.SaveAs(output_path, FileFormat=17)  # 17 = wdFormatPDF\n",
    "            word.Quit()\n",
    "\n",
    "            print(f\"Conversion successful: {input_file} to {output_path}\")\n",
    "\n",
    "        else:\n",
    "            print(f\"Unsupported file type: {file_extension}\")\n",
    "\n",
    "    except Exception as e:\n",
    "        print(f\"Conversion failed: {e}\")\n",
    "\n",
    "# Example usage with a single input file variable:\n",
    "input_file = r\"C:\\Users\\kuzey\\OneDrive\\Masaüstü\\Qw8O9rnw_converted_to_RTF.rtf\" \n",
    "output_folder = r'C:\\Users\\kuzey\\OneDrive\\Masaüstü'\n",
    "convert_to_pdf_or_rtf(input_file, output_folder)\n"
   ]
  },
  {
   "cell_type": "code",
   "execution_count": null,
   "id": "9b12325c",
   "metadata": {},
   "outputs": [],
   "source": []
  }
 ],
 "metadata": {
  "kernelspec": {
   "display_name": "Python 3 (ipykernel)",
   "language": "python",
   "name": "python3"
  },
  "language_info": {
   "codemirror_mode": {
    "name": "ipython",
    "version": 3
   },
   "file_extension": ".py",
   "mimetype": "text/x-python",
   "name": "python",
   "nbconvert_exporter": "python",
   "pygments_lexer": "ipython3",
   "version": "3.11.5"
  }
 },
 "nbformat": 4,
 "nbformat_minor": 5
}
