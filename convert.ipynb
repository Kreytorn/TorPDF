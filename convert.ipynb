{
 "cells": [
  {
   "cell_type": "code",
   "execution_count": 2,
   "id": "2b42f13b",
   "metadata": {},
   "outputs": [
    {
     "name": "stdout",
     "output_type": "stream",
     "text": [
      "Conversion complete. Word document saved at: C:\\Users\\kuzey\\OneDrive\\Masaüstü\\output_document.docx\n"
     ]
    }
   ],
   "source": [
    "import os\n",
    "import fitz\n",
    "from docx import Document\n",
    "\n",
    "def pdf_to_word(pdf_path, output_folder):\n",
    "    pdf_document = fitz.open(pdf_path)\n",
    "    word_document = Document()\n",
    "\n",
    "    for page_number in range(pdf_document.page_count):\n",
    "        page = pdf_document[page_number]\n",
    "        text = page.get_text()\n",
    "        word_document.add_paragraph(text)\n",
    "\n",
    "    pdf_document.close()\n",
    "\n",
    "    if not os.path.exists(output_folder):\n",
    "        os.makedirs(output_folder)\n",
    "\n",
    "    output_file_path = os.path.join(output_folder, \"output_document.docx\")\n",
    "    word_document.save(output_file_path)\n",
    "\n",
    "    print(f\"Conversion complete. Word document saved at: {output_file_path}\")\n",
    "\n",
    "if __name__ == \"__main__\":\n",
    "    pdf_path = r\"C:\\Users\\kuzey\\OneDrive\\Masaüstü\\SINIF EL PROGRAMI.pdf.pdf\"\n",
    "    output_folder = r\"C:\\Users\\kuzey\\OneDrive\\Masaüstü\"\n",
    "\n",
    "    pdf_to_word(pdf_path, output_folder)\n"
   ]
  },
  {
   "cell_type": "code",
   "execution_count": null,
   "id": "96fcee79",
   "metadata": {},
   "outputs": [],
   "source": []
  }
 ],
 "metadata": {
  "kernelspec": {
   "display_name": "Python 3 (ipykernel)",
   "language": "python",
   "name": "python3"
  },
  "language_info": {
   "codemirror_mode": {
    "name": "ipython",
    "version": 3
   },
   "file_extension": ".py",
   "mimetype": "text/x-python",
   "name": "python",
   "nbconvert_exporter": "python",
   "pygments_lexer": "ipython3",
   "version": "3.11.4"
  }
 },
 "nbformat": 4,
 "nbformat_minor": 5
}
