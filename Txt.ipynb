{
 "cells": [
  {
   "cell_type": "code",
   "execution_count": 39,
   "id": "aba1d63b",
   "metadata": {},
   "outputs": [
    {
     "name": "stdout",
     "output_type": "stream",
     "text": [
      "Conversion successful: C:\\Users\\kuzey\\OneDrive\\Masaüstü\\Qw8O9rnw_converted_to_TXT.txt to C:\\Users\\kuzey\\OneDrive\\Masaüstü\\Qw8O9rnw_converted_to_PDF.pdf\n"
     ]
    }
   ],
   "source": [
    "#final code\n",
    "import os\n",
    "from PyPDF2 import PdfReader  # For PDF text extraction\n",
    "from reportlab.lib.pagesizes import letter\n",
    "from reportlab.platypus import SimpleDocTemplate, Paragraph\n",
    "from reportlab.lib.styles import getSampleStyleSheet\n",
    "\n",
    "def convert_file_name(file_name, file_type):\n",
    "    conversion_keyword = \"_converted_to_\"\n",
    "    if conversion_keyword in file_name:\n",
    "        file_name = file_name[:file_name.rfind(conversion_keyword)]\n",
    "    return f\"{file_name}{conversion_keyword}{file_type}\"\n",
    "\n",
    "def convert_to_pdf_or_txt(input_file, output_folder):\n",
    "    try:\n",
    "        file_name, file_extension = os.path.splitext(os.path.basename(input_file))\n",
    "        output_file = os.path.join(output_folder, \"\")\n",
    "\n",
    "        if file_extension.lower() == \".pdf\":\n",
    "            # Convert PDF to text:\n",
    "            text_content = \"\"\n",
    "            with open(input_file, 'rb') as pdf_file:\n",
    "                pdf_reader = PdfReader(pdf_file)\n",
    "                for page_number in range(len(pdf_reader.pages)):\n",
    "                    text_content += pdf_reader.pages[page_number].extract_text()\n",
    "\n",
    "            output_path = os.path.join(\n",
    "                output_file,\n",
    "                convert_file_name(file_name, \"TXT\") + \".txt\"\n",
    "            )\n",
    "            with open(output_path, 'w', encoding='utf-8') as text_file:\n",
    "                text_file.write(text_content)\n",
    "            print(f\"Conversion successful: {input_file} to {output_path}\")\n",
    "\n",
    "        elif file_extension.lower() == \".txt\":\n",
    "            # Convert text to PDF:\n",
    "            output_path = os.path.join(\n",
    "                output_file,\n",
    "                convert_file_name(file_name, \"PDF\") + \".pdf\"\n",
    "            )\n",
    "            doc = SimpleDocTemplate(output_path, pagesize=letter)\n",
    "            styles = getSampleStyleSheet()\n",
    "\n",
    "            with open(input_file, 'r') as text_file:\n",
    "                text = text_file.read()\n",
    "\n",
    "            content = [Paragraph(text, styles['Normal'])]\n",
    "            doc.build(content)\n",
    "\n",
    "            print(f\"Conversion successful: {input_file} to {output_path}\")\n",
    "\n",
    "        else:\n",
    "            print(f\"Unsupported file type: {file_extension}\")\n",
    "\n",
    "    except Exception as e:\n",
    "        print(f\"Conversion failed: {e}\")\n",
    "\n",
    "# Example usage:\n",
    "input_file = r\"C:\\Users\\kuzey\\OneDrive\\Masaüstü\\Qw8O9rnw_converted_to_TXT.txt\"\n",
    "output_folder = r'C:\\Users\\kuzey\\OneDrive\\Masaüstü' \n",
    "convert_to_pdf_or_txt(input_file, output_folder)"
   ]
  },
  {
   "cell_type": "code",
   "execution_count": null,
   "id": "e5ca7011",
   "metadata": {},
   "outputs": [],
   "source": []
  }
 ],
 "metadata": {
  "kernelspec": {
   "display_name": "Python 3 (ipykernel)",
   "language": "python",
   "name": "python3"
  },
  "language_info": {
   "codemirror_mode": {
    "name": "ipython",
    "version": 3
   },
   "file_extension": ".py",
   "mimetype": "text/x-python",
   "name": "python",
   "nbconvert_exporter": "python",
   "pygments_lexer": "ipython3",
   "version": "3.11.5"
  }
 },
 "nbformat": 4,
 "nbformat_minor": 5
}
