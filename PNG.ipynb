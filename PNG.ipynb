{
 "cells": [
  {
   "cell_type": "code",
   "execution_count": 8,
   "id": "1da7ffe3",
   "metadata": {},
   "outputs": [
    {
     "name": "stdout",
     "output_type": "stream",
     "text": [
      "Conversion successful: C:\\Users\\kuzey\\OneDrive\\Masaüstü\\JPEG_converted_to_PDF.pdf to PNG images in C:\\Users\\kuzey\\OneDrive\\Masaüstü\n"
     ]
    }
   ],
   "source": [
    "#final code\n",
    "from PIL import Image\n",
    "from reportlab.pdfgen import canvas\n",
    "import fitz\n",
    "import os\n",
    "\n",
    "def convert_file_name(file_name, file_type, page_number=None):\n",
    "    conversion_keyword = \"_converted_to_\"\n",
    "    base_file_name = file_name.split(\"_converted_to_\")[0]  # Extract base name (always look for conversion keyword)\n",
    "    return f\"{base_file_name}{conversion_keyword}{file_type}{'_page{page_number}' if page_number else ''}\"\n",
    "\n",
    "def convert_file(input_file, output_folder):\n",
    "    try:\n",
    "        file_extension = os.path.splitext(input_file)[1].lower()\n",
    "        file_name = os.path.splitext(os.path.basename(input_file))[0]\n",
    "\n",
    "        if file_extension == '.pdf':\n",
    "            # Convert PDF to PNG\n",
    "            with fitz.open(input_file) as pdf_document:\n",
    "                for page_number in range(pdf_document.page_count):\n",
    "                    page = pdf_document[page_number]\n",
    "                    image = page.get_pixmap()\n",
    "                    img = Image.frombytes(\"RGB\", [image.width, image.height], image.samples)\n",
    "                    output_path = os.path.join(output_folder, convert_file_name(file_name, \"PNG\", None if pdf_document.page_count == 1 else page_number + 1) + \".png\")\n",
    "                    img.save(output_path, \"PNG\")\n",
    "\n",
    "            print(f\"Conversion successful: {input_file} to PNG images in {output_folder}\")\n",
    "\n",
    "        elif file_extension == '.png':\n",
    "            # Convert PNG to PDF\n",
    "            with Image.open(input_file) as img:\n",
    "                img = img.convert('RGB')\n",
    "                output_pdf = os.path.join(output_folder, convert_file_name(file_name, \"PDF\")) + \".pdf\"\n",
    "                pdf = canvas.Canvas(output_pdf, pagesize=img.size)\n",
    "                pdf.drawInlineImage(img, 0, 0, width=img.width, height=img.height)\n",
    "                pdf.save()\n",
    "\n",
    "            print(f\"Conversion successful: {input_file} to {output_pdf}\")\n",
    "\n",
    "        else:\n",
    "            print(\"Unsupported file type. Please provide either a PDF or PNG.\")\n",
    "\n",
    "    except Exception as e:\n",
    "        print(f\"Conversion failed: {e}\")\n",
    "\n",
    "# Example usage\n",
    "input_file = r\"C:\\Users\\kuzey\\OneDrive\\Masaüstü\\JPEG_converted_to_PDF.pdf\"\n",
    "output_folder = r'C:\\Users\\kuzey\\OneDrive\\Masaüstü'\n",
    "\n",
    "convert_file(input_file, output_folder)"
   ]
  },
  {
   "cell_type": "code",
   "execution_count": null,
   "id": "3186a60b",
   "metadata": {},
   "outputs": [],
   "source": []
  }
 ],
 "metadata": {
  "kernelspec": {
   "display_name": "Python 3 (ipykernel)",
   "language": "python",
   "name": "python3"
  },
  "language_info": {
   "codemirror_mode": {
    "name": "ipython",
    "version": 3
   },
   "file_extension": ".py",
   "mimetype": "text/x-python",
   "name": "python",
   "nbconvert_exporter": "python",
   "pygments_lexer": "ipython3",
   "version": "3.11.5"
  }
 },
 "nbformat": 4,
 "nbformat_minor": 5
}
