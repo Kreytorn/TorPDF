{
 "cells": [
  {
   "cell_type": "code",
   "execution_count": 35,
   "id": "88d24aff",
   "metadata": {},
   "outputs": [
    {
     "name": "stdout",
     "output_type": "stream",
     "text": [
      "Conversion successful: C:\\Users\\kuzey\\OneDrive\\Masaüstü\\New_folder\\sheet_converted_to_PDF.pdf to C:\\Users\\kuzey\\OneDrive\\Masaüstü\\New_folder\\sheet__converted_to_Excel.xlsx\n"
     ]
    }
   ],
   "source": [
    "# siyah box ai\n",
    "import pandas as pd\n",
    "import matplotlib.pyplot as plt\n",
    "from matplotlib.backends.backend_pdf import PdfPages\n",
    "import os\n",
    "import tabula\n",
    "\n",
    "def convert_file(input_file, output_folder):\n",
    "    file_name, file_extension = os.path.splitext(os.path.basename(input_file))\n",
    "\n",
    "    # Separate filename and handle \"converted_to\" case\n",
    "    if \"converted_to\" in file_name:\n",
    "        file_name = file_name.split(\"converted_to\")[0]  # Get part before \"converted_to\"\n",
    "    else:\n",
    "        file_name = file_name  # Keep original name if no \"converted_to\"\n",
    "\n",
    "    if file_extension.lower() == \".pdf\":\n",
    "        # Convert PDF to Excel\n",
    "        dfs = tabula.read_pdf(input_file, pages='all')\n",
    "        df = pd.concat(dfs, ignore_index=True)\n",
    "        df = df.loc[:, ~df.columns.str.startswith('Unnamed: 6')]\n",
    "        output_file = os.path.join(output_folder, f\"{file_name}_converted_to_Excel.xlsx\")\n",
    "        df.to_excel(output_file, index=False)\n",
    "        print(f\"Conversion successful: {input_file} to {output_file}\")\n",
    "\n",
    "    elif file_extension.lower() in {\".xls\", \".xlsx\"}:\n",
    "        # Convert Excel to PDF\n",
    "        df = pd.read_excel(input_file)\n",
    "        output_file = os.path.join(output_folder, f\"{file_name}_converted_to_PDF.pdf\")\n",
    "        fig, ax = plt.subplots(figsize=(10, 6))\n",
    "        ax.axis('tight')\n",
    "        ax.axis('off')\n",
    "\n",
    "        cell_colors = [['#D3D3D3' if i == 0 else 'white' for i in range(len(df.columns))]] * len(df)\n",
    "\n",
    "        table = ax.table(cellText=df.values, colLabels=df.columns, cellLoc='center', loc='center', cellColours=cell_colors)\n",
    "\n",
    "        table.auto_set_font_size(False)\n",
    "        table.set_fontsize(10)\n",
    "\n",
    "        for i, col in enumerate(df.columns):\n",
    "            max_len = max(df[col].astype(str).apply(len).max(), len(col))\n",
    "            col_width = max_len + 0.5\n",
    "            table.auto_set_column_width([i])\n",
    "            if table.get_celld()[(0, i)].get_width() < col_width:\n",
    "                table.get_celld()[(0, i)].set_width(col_width)\n",
    "\n",
    "        with PdfPages(output_file) as pdf:\n",
    "            pdf.savefig(fig, bbox_inches='tight')\n",
    "\n",
    "        plt.close()\n",
    "        print(f\"Conversion successful: {input_file} to {output_file}\")\n",
    "\n",
    "if __name__ == \"__main__\":\n",
    "    input_file = r\"C:\\Users\\kuzey\\OneDrive\\Masaüstü\\New_folder\\sheet_converted_to_PDF.pdf\"\n",
    "    output_folder = r\"C:\\Users\\kuzey\\OneDrive\\Masaüstü\\New_folder\"\n",
    "    convert_file(input_file, output_folder)\n"
   ]
  }
 ],
 "metadata": {
  "kernelspec": {
   "display_name": "Python 3 (ipykernel)",
   "language": "python",
   "name": "python3"
  },
  "language_info": {
   "codemirror_mode": {
    "name": "ipython",
    "version": 3
   },
   "file_extension": ".py",
   "mimetype": "text/x-python",
   "name": "python",
   "nbconvert_exporter": "python",
   "pygments_lexer": "ipython3",
   "version": "3.11.5"
  }
 },
 "nbformat": 4,
 "nbformat_minor": 5
}
