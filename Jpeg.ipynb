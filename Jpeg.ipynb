{
 "cells": [
  {
   "cell_type": "code",
   "execution_count": 5,
   "id": "ef45440b",
   "metadata": {},
   "outputs": [
    {
     "name": "stdout",
     "output_type": "stream",
     "text": [
      "Conversion successful: C:\\Users\\kuzey\\OneDrive\\Masaüstü\\2204\\visual\\SPLIT.jpg to C:\\Users\\kuzey\\OneDrive\\Masaüstü\\SPLIT_converted.pdf\n"
     ]
    }
   ],
   "source": [
    "#jpeg to pdf\n",
    "from PIL import Image\n",
    "from reportlab.pdfgen import canvas\n",
    "import os\n",
    "\n",
    "def convert_jpeg_to_pdf(input_jpeg, output_folder):\n",
    "    try:\n",
    "        with Image.open(input_jpeg) as img:\n",
    "            img = img.convert('RGB')\n",
    "            file_name = os.path.splitext(os.path.basename(input_jpeg))[0]\n",
    "            output_pdf = os.path.join(output_folder, f\"{file_name}_converted.pdf\")\n",
    "            pdf = canvas.Canvas(output_pdf, pagesize=img.size)\n",
    "            pdf.drawInlineImage(img, 0, 0, width=img.width, height=img.height)\n",
    "            pdf.save()\n",
    "\n",
    "        print(f\"Conversion successful: {input_jpeg} to {output_pdf}\")\n",
    "    except Exception as e:\n",
    "        print(f\"Conversion failed: {e}\")\n",
    "\n",
    "# Example usage\n",
    "input_jpeg = r'C:\\Users\\kuzey\\OneDrive\\Masaüstü\\2204\\visual\\SPLIT.jpg'\n",
    "output_folder = r'C:\\Users\\kuzey\\OneDrive\\Masaüstü'\n",
    "convert_jpeg_to_pdf(input_jpeg, output_folder)\n",
    "\n"
   ]
  },
  {
   "cell_type": "code",
   "execution_count": null,
   "id": "269d7f0e",
   "metadata": {},
   "outputs": [],
   "source": [
    "#pdf to jpeg\n",
    "import fitz\n",
    "from PIL import Image\n",
    "import os\n",
    "\n",
    "def convert_pdf_to_jpeg(input_pdf, output_folder):\n",
    "    try:\n",
    "        with fitz.open(input_pdf) as pdf_document:\n",
    "            for page_number in range(pdf_document.page_count):\n",
    "                page = pdf_document.load_page(page_number)\n",
    "                image = Image.frombytes(\"RGB\", page.get_pixel_data(), \"RGB\")\n",
    "                output_path = os.path.join(output_folder, f\"{os.path.splitext(os.path.basename(input_pdf))[0]}_page{page_number + 1}.jpg\")\n",
    "                image.save(output_path, \"JPEG\")\n",
    "\n",
    "        print(f\"Conversion successful: {input_pdf} to JPEG images in {output_folder}\")\n",
    "    except Exception as e:\n",
    "        print(f\"Conversion failed: {e}\")\n",
    "\n",
    "# Example usage\n",
    "input_pdf = r'C:\\Users\\kuzey\\OneDrive\\Masaüstü\\example.pdf'\n",
    "output_folder = r'C:\\Users\\kuzey\\OneDrive\\Masaüstü'\n",
    "convert_pdf_to_jpeg(input_pdf, output_folder)\n"
   ]
  },
  {
   "cell_type": "code",
   "execution_count": 15,
   "id": "8c00c149",
   "metadata": {},
   "outputs": [
    {
     "name": "stdout",
     "output_type": "stream",
     "text": [
      "Conversion successful: C:\\Users\\kuzey\\OneDrive\\Masaüstü\\SINIF EL PROGRAMI_converted_to_JPEG_page1.jpg to C:\\Users\\kuzey\\OneDrive\\Masaüstü\\SINIF EL PROGRAMI_converted_to_PDF.pdf\n"
     ]
    }
   ],
   "source": [
    "from PIL import Image\n",
    "from reportlab.pdfgen import canvas\n",
    "import fitz\n",
    "import os\n",
    "\n",
    "def convert_file_name(file_name, file_type, page_number=None):\n",
    "    conversion_keyword = \"_converted_to_\"\n",
    "    if \"_converted_to_JPEG\" in file_name:  # Check for previous JPEG conversion\n",
    "        base_file_name = file_name.split(\"_converted_to_JPEG\")[0]  # Extract base name\n",
    "    else:\n",
    "        base_file_name = file_name\n",
    "\n",
    "    if page_number is not None:\n",
    "        return f\"{base_file_name}{conversion_keyword}{file_type}_page{page_number}\"\n",
    "    else:\n",
    "        return f\"{base_file_name}{conversion_keyword}{file_type}\"\n",
    "\n",
    "def convert_to_pdf_or_jpeg(input_file, output_folder):\n",
    "    try:\n",
    "        file_name, file_extension = os.path.splitext(os.path.basename(input_file))\n",
    "        output_file = os.path.join(output_folder, \"\")\n",
    "\n",
    "        if file_extension.lower() == \".pdf\":\n",
    "            # Convert PDF to JPEG\n",
    "            with fitz.open(input_file) as pdf_document:\n",
    "                for page_number in range(pdf_document.page_count):\n",
    "                    page = pdf_document[page_number]\n",
    "                    image = page.get_pixmap()\n",
    "                    img = Image.frombytes(\"RGB\", [image.width, image.height], image.samples)\n",
    "                    output_path = os.path.join(\n",
    "                        output_file,\n",
    "                        convert_file_name(file_name, \"JPEG\", page_number + 1) + \".jpg\"\n",
    "                    )\n",
    "                    img.save(output_path, \"JPEG\")\n",
    "                    print(f\"Conversion successful: {input_file} to {output_path}\")\n",
    "\n",
    "        elif file_extension.lower() in {\".jpg\", \".jpeg\"}:\n",
    "            # Convert JPEG to PDF\n",
    "            output_path = os.path.join(\n",
    "                output_file,\n",
    "                convert_file_name(file_name, \"PDF\") + \".pdf\"\n",
    "            )\n",
    "            pdf = canvas.Canvas(output_path)\n",
    "            pdf.drawInlineImage(Image.open(input_file), 0, 0)\n",
    "            pdf.save()\n",
    "            print(f\"Conversion successful: {input_file} to {output_path}\")\n",
    "\n",
    "    except Exception as e:\n",
    "        print(f\"Conversion failed: {e}\")\n",
    "\n",
    "# Example usage\n",
    "input_file = r\"C:\\Users\\kuzey\\OneDrive\\Masaüstü\\SINIF EL PROGRAMI_converted_to_JPEG_page1.jpg\"\n",
    "output_folder = r'C:\\Users\\kuzey\\OneDrive\\Masaüstü'\n",
    "convert_to_pdf_or_jpeg(input_file, output_folder)\n"
   ]
  },
  {
   "cell_type": "code",
   "execution_count": null,
   "id": "aef247b3",
   "metadata": {},
   "outputs": [],
   "source": []
  },
  {
   "cell_type": "code",
   "execution_count": null,
   "id": "8bd132c0",
   "metadata": {},
   "outputs": [],
   "source": []
  },
  {
   "cell_type": "code",
   "execution_count": null,
   "id": "a52b2e07",
   "metadata": {},
   "outputs": [],
   "source": []
  },
  {
   "cell_type": "code",
   "execution_count": null,
   "id": "02b4eeb5",
   "metadata": {},
   "outputs": [],
   "source": []
  },
  {
   "cell_type": "code",
   "execution_count": null,
   "id": "84127f50",
   "metadata": {},
   "outputs": [],
   "source": []
  },
  {
   "cell_type": "code",
   "execution_count": null,
   "id": "71d94da7",
   "metadata": {},
   "outputs": [],
   "source": []
  },
  {
   "cell_type": "code",
   "execution_count": null,
   "id": "7caa370b",
   "metadata": {},
   "outputs": [],
   "source": []
  },
  {
   "cell_type": "code",
   "execution_count": null,
   "id": "fd157cee",
   "metadata": {},
   "outputs": [],
   "source": []
  },
  {
   "cell_type": "code",
   "execution_count": null,
   "id": "14717faa",
   "metadata": {},
   "outputs": [],
   "source": []
  },
  {
   "cell_type": "code",
   "execution_count": null,
   "id": "03258e13",
   "metadata": {},
   "outputs": [],
   "source": []
  },
  {
   "cell_type": "code",
   "execution_count": null,
   "id": "717130b3",
   "metadata": {},
   "outputs": [],
   "source": []
  },
  {
   "cell_type": "code",
   "execution_count": null,
   "id": "93a12d4c",
   "metadata": {},
   "outputs": [],
   "source": [
    "\n"
   ]
  },
  {
   "cell_type": "code",
   "execution_count": null,
   "id": "84aaef22",
   "metadata": {},
   "outputs": [],
   "source": []
  },
  {
   "cell_type": "code",
   "execution_count": null,
   "id": "3672965d",
   "metadata": {},
   "outputs": [],
   "source": []
  }
 ],
 "metadata": {
  "kernelspec": {
   "display_name": "Python 3 (ipykernel)",
   "language": "python",
   "name": "python3"
  },
  "language_info": {
   "codemirror_mode": {
    "name": "ipython",
    "version": 3
   },
   "file_extension": ".py",
   "mimetype": "text/x-python",
   "name": "python",
   "nbconvert_exporter": "python",
   "pygments_lexer": "ipython3",
   "version": "3.11.5"
  }
 },
 "nbformat": 4,
 "nbformat_minor": 5
}
